{
  "cells": [
    {
      "cell_type": "code",
      "execution_count": null,
      "metadata": {
        "colab": {
          "base_uri": "https://localhost:8080/"
        },
        "id": "Aptmfy_P0ZcA",
        "outputId": "8429ff2b-7a12-4887-e08f-d58d53e22af0"
      },
      "outputs": [
        {
          "name": "stdout",
          "output_type": "stream",
          "text": [
            "Mounted at /content/drive\n"
          ]
        }
      ],
      "source": [
        "from google.colab import drive\n",
        "drive.mount('/content/drive')\n"
      ]
    },
    {
      "cell_type": "code",
      "execution_count": null,
      "metadata": {
        "id": "bO61mul40e__"
      },
      "outputs": [],
      "source": [
        "import pandas as pd\n",
        "df1 = pd.read_csv('/content/drive/MyDrive/data_hyma/da1-50k.csv')\n",
        "df2 = pd.read_csv('/content/drive/MyDrive/data_hyma/curated_vqa_dataset2-5000-8159.csv')\n",
        "df3 = pd.read_csv('/content/drive/MyDrive/data_hyma/curated_vqa_dataset2_8160-12267.csv')\n",
        "df4 = pd.read_csv('/content/drive/MyDrive/data_hyma/curated_vqa_dataset2_12268-13154.csv')\n",
        "df5 = pd.read_csv('/content/drive/MyDrive/data_hyma/curated_vqa_dataset2_13155-14931.csv')\n",
        "df6 = pd.read_csv('/content/drive/MyDrive/data_hyma/curated_vqa_dataset2_14932-21875.csv')\n",
        "df7 = pd.read_csv('/content/drive/MyDrive/data_hyma/curated_vqa_dataset2_31218-36668.csv')\n",
        "df8 = pd.read_csv('/content/drive/MyDrive/data_hyma/curated_vqa_dataset2_36660-39815.csv')\n",
        "df9 = pd.read_csv('/content/drive/MyDrive/data_hyma/curated_vqa_dataset3_10000-10035.csv')\n",
        "df10 = pd.read_csv('/content/drive/MyDrive/data_hyma/curated_vqa_dataset4_20000-21990.csv')\n",
        "df11 = pd.read_csv('/content/drive/MyDrive/data_hyma/curated_vqa_dataset4_21991-23941.csv')\n",
        "df12 = pd.read_csv('/content/drive/MyDrive/data_hyma/curated_vqa_dataset4_23942-31221.csv')"
      ]
    },
    {
      "cell_type": "code",
      "execution_count": null,
      "metadata": {
        "colab": {
          "base_uri": "https://localhost:8080/"
        },
        "id": "IAMuvs6C0NvA",
        "outputId": "f435ea0c-a5c1-425b-a2eb-12a073c11f1d"
      },
      "outputs": [
        {
          "name": "stdout",
          "output_type": "stream",
          "text": [
            "✅ Cleaned CSV saved as 'merged_cleaned_questions.csv'\n"
          ]
        }
      ],
      "source": [
        "import pandas as pd\n",
        "qa_dfs=[df1,df2,df3,df4,df5,df6,df7,df8,df9,df10,df11,df12]\n",
        "qa_merged = pd.concat(qa_dfs, ignore_index=True)\n",
        "\n",
        "qa_merged.drop_duplicates(subset=['image_id', 'question', 'answer'], inplace=True)\n",
        "\n",
        "qa_cleaned = qa_merged.drop_duplicates(subset=['image_id', 'answer'])\n",
        "\n",
        "qa_cleaned.to_csv('merged_cleaned_questions.csv', index=False)\n",
        "print(\"✅ Cleaned CSV saved as 'merged_cleaned_questions.csv'\")\n",
        "\n"
      ]
    },
    {
      "cell_type": "code",
      "execution_count": null,
      "metadata": {
        "id": "kpEOqpBo2YiQ"
      },
      "outputs": [],
      "source": [
        "qa_cleaned.to_csv('/content/drive/MyDrive/merged_cleaned_questions.csv', index=False)\n"
      ]
    },
    {
      "cell_type": "code",
      "execution_count": null,
      "metadata": {
        "colab": {
          "base_uri": "https://localhost:8080/",
          "height": 477
        },
        "id": "KlyyfFvcY13k",
        "outputId": "392774c5-a846-4907-bd3a-105b788102eb"
      },
      "outputs": [
        {
          "name": "stdout",
          "output_type": "stream",
          "text": [
            "🔍 Total image_ids in images.csv: 398212\n",
            "✅ Total image_ids with Q&A: 393456\n",
            "❌ Missing image_ids (no QA found): 4756\n"
          ]
        },
        {
          "ename": "OSError",
          "evalue": "Cannot save file into a non-existent directory: '/content/drive/MyDrive/your_folder'",
          "output_type": "error",
          "traceback": [
            "\u001b[0;31m---------------------------------------------------------------------------\u001b[0m",
            "\u001b[0;31mOSError\u001b[0m                                   Traceback (most recent call last)",
            "\u001b[0;32m<ipython-input-22-8a2171465f4a>\u001b[0m in \u001b[0;36m<cell line: 0>\u001b[0;34m()\u001b[0m\n\u001b[1;32m     18\u001b[0m \u001b[0;31m# Optionally save them to a CSV\u001b[0m\u001b[0;34m\u001b[0m\u001b[0;34m\u001b[0m\u001b[0m\n\u001b[1;32m     19\u001b[0m \u001b[0mmissing_df\u001b[0m \u001b[0;34m=\u001b[0m \u001b[0mpd\u001b[0m\u001b[0;34m.\u001b[0m\u001b[0mDataFrame\u001b[0m\u001b[0;34m(\u001b[0m\u001b[0;34m{\u001b[0m\u001b[0;34m'missing_image_id'\u001b[0m\u001b[0;34m:\u001b[0m \u001b[0mmissing_image_ids\u001b[0m\u001b[0;34m}\u001b[0m\u001b[0;34m)\u001b[0m\u001b[0;34m\u001b[0m\u001b[0;34m\u001b[0m\u001b[0m\n\u001b[0;32m---> 20\u001b[0;31m \u001b[0mmissing_df\u001b[0m\u001b[0;34m.\u001b[0m\u001b[0mto_csv\u001b[0m\u001b[0;34m(\u001b[0m\u001b[0;34m'/content/drive/MyDrive/your_folder/missing_image_ids.csv'\u001b[0m\u001b[0;34m,\u001b[0m \u001b[0mindex\u001b[0m\u001b[0;34m=\u001b[0m\u001b[0;32mFalse\u001b[0m\u001b[0;34m)\u001b[0m\u001b[0;34m\u001b[0m\u001b[0;34m\u001b[0m\u001b[0m\n\u001b[0m\u001b[1;32m     21\u001b[0m \u001b[0mprint\u001b[0m\u001b[0;34m(\u001b[0m\u001b[0;34m\"📁 Missing image_ids saved to 'missing_image_ids.csv'\"\u001b[0m\u001b[0;34m)\u001b[0m\u001b[0;34m\u001b[0m\u001b[0;34m\u001b[0m\u001b[0m\n",
            "\u001b[0;32m/usr/local/lib/python3.11/dist-packages/pandas/util/_decorators.py\u001b[0m in \u001b[0;36mwrapper\u001b[0;34m(*args, **kwargs)\u001b[0m\n\u001b[1;32m    331\u001b[0m                     \u001b[0mstacklevel\u001b[0m\u001b[0;34m=\u001b[0m\u001b[0mfind_stack_level\u001b[0m\u001b[0;34m(\u001b[0m\u001b[0;34m)\u001b[0m\u001b[0;34m,\u001b[0m\u001b[0;34m\u001b[0m\u001b[0;34m\u001b[0m\u001b[0m\n\u001b[1;32m    332\u001b[0m                 )\n\u001b[0;32m--> 333\u001b[0;31m             \u001b[0;32mreturn\u001b[0m \u001b[0mfunc\u001b[0m\u001b[0;34m(\u001b[0m\u001b[0;34m*\u001b[0m\u001b[0margs\u001b[0m\u001b[0;34m,\u001b[0m \u001b[0;34m**\u001b[0m\u001b[0mkwargs\u001b[0m\u001b[0;34m)\u001b[0m\u001b[0;34m\u001b[0m\u001b[0;34m\u001b[0m\u001b[0m\n\u001b[0m\u001b[1;32m    334\u001b[0m \u001b[0;34m\u001b[0m\u001b[0m\n\u001b[1;32m    335\u001b[0m         \u001b[0;31m# error: \"Callable[[VarArg(Any), KwArg(Any)], Any]\" has no\u001b[0m\u001b[0;34m\u001b[0m\u001b[0;34m\u001b[0m\u001b[0m\n",
            "\u001b[0;32m/usr/local/lib/python3.11/dist-packages/pandas/core/generic.py\u001b[0m in \u001b[0;36mto_csv\u001b[0;34m(self, path_or_buf, sep, na_rep, float_format, columns, header, index, index_label, mode, encoding, compression, quoting, quotechar, lineterminator, chunksize, date_format, doublequote, escapechar, decimal, errors, storage_options)\u001b[0m\n\u001b[1;32m   3965\u001b[0m         )\n\u001b[1;32m   3966\u001b[0m \u001b[0;34m\u001b[0m\u001b[0m\n\u001b[0;32m-> 3967\u001b[0;31m         return DataFrameRenderer(formatter).to_csv(\n\u001b[0m\u001b[1;32m   3968\u001b[0m             \u001b[0mpath_or_buf\u001b[0m\u001b[0;34m,\u001b[0m\u001b[0;34m\u001b[0m\u001b[0;34m\u001b[0m\u001b[0m\n\u001b[1;32m   3969\u001b[0m             \u001b[0mlineterminator\u001b[0m\u001b[0;34m=\u001b[0m\u001b[0mlineterminator\u001b[0m\u001b[0;34m,\u001b[0m\u001b[0;34m\u001b[0m\u001b[0;34m\u001b[0m\u001b[0m\n",
            "\u001b[0;32m/usr/local/lib/python3.11/dist-packages/pandas/io/formats/format.py\u001b[0m in \u001b[0;36mto_csv\u001b[0;34m(self, path_or_buf, encoding, sep, columns, index_label, mode, compression, quoting, quotechar, lineterminator, chunksize, date_format, doublequote, escapechar, errors, storage_options)\u001b[0m\n\u001b[1;32m   1012\u001b[0m             \u001b[0mformatter\u001b[0m\u001b[0;34m=\u001b[0m\u001b[0mself\u001b[0m\u001b[0;34m.\u001b[0m\u001b[0mfmt\u001b[0m\u001b[0;34m,\u001b[0m\u001b[0;34m\u001b[0m\u001b[0;34m\u001b[0m\u001b[0m\n\u001b[1;32m   1013\u001b[0m         )\n\u001b[0;32m-> 1014\u001b[0;31m         \u001b[0mcsv_formatter\u001b[0m\u001b[0;34m.\u001b[0m\u001b[0msave\u001b[0m\u001b[0;34m(\u001b[0m\u001b[0;34m)\u001b[0m\u001b[0;34m\u001b[0m\u001b[0;34m\u001b[0m\u001b[0m\n\u001b[0m\u001b[1;32m   1015\u001b[0m \u001b[0;34m\u001b[0m\u001b[0m\n\u001b[1;32m   1016\u001b[0m         \u001b[0;32mif\u001b[0m \u001b[0mcreated_buffer\u001b[0m\u001b[0;34m:\u001b[0m\u001b[0;34m\u001b[0m\u001b[0;34m\u001b[0m\u001b[0m\n",
            "\u001b[0;32m/usr/local/lib/python3.11/dist-packages/pandas/io/formats/csvs.py\u001b[0m in \u001b[0;36msave\u001b[0;34m(self)\u001b[0m\n\u001b[1;32m    249\u001b[0m         \"\"\"\n\u001b[1;32m    250\u001b[0m         \u001b[0;31m# apply compression and byte/text conversion\u001b[0m\u001b[0;34m\u001b[0m\u001b[0;34m\u001b[0m\u001b[0m\n\u001b[0;32m--> 251\u001b[0;31m         with get_handle(\n\u001b[0m\u001b[1;32m    252\u001b[0m             \u001b[0mself\u001b[0m\u001b[0;34m.\u001b[0m\u001b[0mfilepath_or_buffer\u001b[0m\u001b[0;34m,\u001b[0m\u001b[0;34m\u001b[0m\u001b[0;34m\u001b[0m\u001b[0m\n\u001b[1;32m    253\u001b[0m             \u001b[0mself\u001b[0m\u001b[0;34m.\u001b[0m\u001b[0mmode\u001b[0m\u001b[0;34m,\u001b[0m\u001b[0;34m\u001b[0m\u001b[0;34m\u001b[0m\u001b[0m\n",
            "\u001b[0;32m/usr/local/lib/python3.11/dist-packages/pandas/io/common.py\u001b[0m in \u001b[0;36mget_handle\u001b[0;34m(path_or_buf, mode, encoding, compression, memory_map, is_text, errors, storage_options)\u001b[0m\n\u001b[1;32m    747\u001b[0m     \u001b[0;31m# Only for write methods\u001b[0m\u001b[0;34m\u001b[0m\u001b[0;34m\u001b[0m\u001b[0m\n\u001b[1;32m    748\u001b[0m     \u001b[0;32mif\u001b[0m \u001b[0;34m\"r\"\u001b[0m \u001b[0;32mnot\u001b[0m \u001b[0;32min\u001b[0m \u001b[0mmode\u001b[0m \u001b[0;32mand\u001b[0m \u001b[0mis_path\u001b[0m\u001b[0;34m:\u001b[0m\u001b[0;34m\u001b[0m\u001b[0;34m\u001b[0m\u001b[0m\n\u001b[0;32m--> 749\u001b[0;31m         \u001b[0mcheck_parent_directory\u001b[0m\u001b[0;34m(\u001b[0m\u001b[0mstr\u001b[0m\u001b[0;34m(\u001b[0m\u001b[0mhandle\u001b[0m\u001b[0;34m)\u001b[0m\u001b[0;34m)\u001b[0m\u001b[0;34m\u001b[0m\u001b[0;34m\u001b[0m\u001b[0m\n\u001b[0m\u001b[1;32m    750\u001b[0m \u001b[0;34m\u001b[0m\u001b[0m\n\u001b[1;32m    751\u001b[0m     \u001b[0;32mif\u001b[0m \u001b[0mcompression\u001b[0m\u001b[0;34m:\u001b[0m\u001b[0;34m\u001b[0m\u001b[0;34m\u001b[0m\u001b[0m\n",
            "\u001b[0;32m/usr/local/lib/python3.11/dist-packages/pandas/io/common.py\u001b[0m in \u001b[0;36mcheck_parent_directory\u001b[0;34m(path)\u001b[0m\n\u001b[1;32m    614\u001b[0m     \u001b[0mparent\u001b[0m \u001b[0;34m=\u001b[0m \u001b[0mPath\u001b[0m\u001b[0;34m(\u001b[0m\u001b[0mpath\u001b[0m\u001b[0;34m)\u001b[0m\u001b[0;34m.\u001b[0m\u001b[0mparent\u001b[0m\u001b[0;34m\u001b[0m\u001b[0;34m\u001b[0m\u001b[0m\n\u001b[1;32m    615\u001b[0m     \u001b[0;32mif\u001b[0m \u001b[0;32mnot\u001b[0m \u001b[0mparent\u001b[0m\u001b[0;34m.\u001b[0m\u001b[0mis_dir\u001b[0m\u001b[0;34m(\u001b[0m\u001b[0;34m)\u001b[0m\u001b[0;34m:\u001b[0m\u001b[0;34m\u001b[0m\u001b[0;34m\u001b[0m\u001b[0m\n\u001b[0;32m--> 616\u001b[0;31m         \u001b[0;32mraise\u001b[0m \u001b[0mOSError\u001b[0m\u001b[0;34m(\u001b[0m\u001b[0;34mrf\"Cannot save file into a non-existent directory: '{parent}'\"\u001b[0m\u001b[0;34m)\u001b[0m\u001b[0;34m\u001b[0m\u001b[0;34m\u001b[0m\u001b[0m\n\u001b[0m\u001b[1;32m    617\u001b[0m \u001b[0;34m\u001b[0m\u001b[0m\n\u001b[1;32m    618\u001b[0m \u001b[0;34m\u001b[0m\u001b[0m\n",
            "\u001b[0;31mOSError\u001b[0m: Cannot save file into a non-existent directory: '/content/drive/MyDrive/your_folder'"
          ]
        }
      ],
      "source": [
        "import pandas as pd\n",
        "\n",
        "images_df = pd.read_csv('/content/drive/MyDrive/images.csv')\n",
        "qa_df = pd.read_csv('/content/drive/MyDrive/merged_cleaned_questions.csv')\n",
        "\n",
        "image_ids_all = set(images_df['image_id'].unique())\n",
        "image_ids_qa = set(qa_df['image_id'].unique())\n",
        "\n",
        "missing_image_ids = sorted(list(image_ids_all - image_ids_qa))\n",
        "\n",
        "print(f\"🔍 Total image_ids in images.csv: {len(image_ids_all)}\")\n",
        "print(f\"✅ Total image_ids with Q&A: {len(image_ids_qa)}\")\n",
        "print(f\"❌ Missing image_ids (no QA found): {len(missing_image_ids)}\")\n",
        "\n",
        "missing_df = pd.DataFrame({'missing_image_id': missing_image_ids})\n",
        "missing_df.to_csv('/content/drive/MyDrive/your_folder/missing_image_ids.csv', index=False)\n",
        "print(\"📁 Missing image_ids saved to 'missing_image_ids.csv'\")\n"
      ]
    },
    {
      "cell_type": "code",
      "execution_count": null,
      "metadata": {
        "colab": {
          "base_uri": "https://localhost:8080/"
        },
        "id": "T9KCYTeg5VsT",
        "outputId": "ab86ac87-ed00-46cf-bd30-4f64c49ef7b8"
      },
      "outputs": [
        {
          "data": {
            "text/plain": [
              "(409330, 4)"
            ]
          },
          "execution_count": 11,
          "metadata": {},
          "output_type": "execute_result"
        }
      ],
      "source": [
        "qa_cleaned.shape"
      ]
    },
    {
      "cell_type": "code",
      "execution_count": null,
      "metadata": {
        "colab": {
          "base_uri": "https://localhost:8080/",
          "height": 850,
          "referenced_widgets": [
            "18ad26df5b8c410087914774ba498eae",
            "31be164514f347eea242995f7cc6b013",
            "211b34108a4c464e852cd0b630f1492b",
            "9ec6047e995a47869a3011ed900f0f7f",
            "e6c060a84bb646c9b7015b478cdadf25",
            "2b7d3391586745d698f06fbfbd645cff",
            "b2ab54f5e0b74eb7ad9722ee751859fc",
            "c7382029ebd74d648bc91a7e43b5abc1",
            "adc7efcdf08c421f9428abdcf2efecb5",
            "7283b7726b3846d9b8678862953149c3",
            "ab35bd2321d44516a9758652a1fe40f9"
          ]
        },
        "id": "BRD-9t9lL3xd",
        "outputId": "6490cfe7-1936-4c7b-a99a-a168b3a4126d"
      },
      "outputs": [
        {
          "name": "stdout",
          "output_type": "stream",
          "text": [
            "Drive already mounted at /content/drive; to attempt to forcibly remount, call drive.mount(\"/content/drive\", force_remount=True).\n",
            "🔄 Processing QA entries with progress bar...\n"
          ]
        },
        {
          "data": {
            "application/vnd.jupyter.widget-view+json": {
              "model_id": "18ad26df5b8c410087914774ba498eae",
              "version_major": 2,
              "version_minor": 0
            },
            "text/plain": [
              "  0%|          | 0/393456 [00:00<?, ?it/s]"
            ]
          },
          "metadata": {},
          "output_type": "display_data"
        },
        {
          "name": "stdout",
          "output_type": "stream",
          "text": [
            "💾 Saving after 10000 image_ids...\n",
            "💾 Saving after 20000 image_ids...\n",
            "💾 Saving after 30000 image_ids...\n",
            "💾 Saving after 40000 image_ids...\n",
            "💾 Saving after 50000 image_ids...\n",
            "💾 Saving after 60000 image_ids...\n",
            "💾 Saving after 70000 image_ids...\n",
            "💾 Saving after 80000 image_ids...\n",
            "💾 Saving after 90000 image_ids...\n",
            "💾 Saving after 100000 image_ids...\n",
            "💾 Saving after 110000 image_ids...\n",
            "💾 Saving after 120000 image_ids...\n",
            "💾 Saving after 130000 image_ids...\n",
            "💾 Saving after 140000 image_ids...\n",
            "💾 Saving after 150000 image_ids...\n",
            "💾 Saving after 160000 image_ids...\n",
            "💾 Saving after 170000 image_ids...\n",
            "💾 Saving after 180000 image_ids...\n",
            "💾 Saving after 190000 image_ids...\n",
            "💾 Saving after 200000 image_ids...\n",
            "💾 Saving after 210000 image_ids...\n",
            "💾 Saving after 220000 image_ids...\n",
            "💾 Saving after 230000 image_ids...\n",
            "💾 Saving after 240000 image_ids...\n",
            "💾 Saving after 250000 image_ids...\n",
            "💾 Saving after 260000 image_ids...\n",
            "💾 Saving after 270000 image_ids...\n",
            "💾 Saving after 280000 image_ids...\n",
            "💾 Saving after 290000 image_ids...\n",
            "💾 Saving after 300000 image_ids...\n",
            "💾 Saving after 310000 image_ids...\n",
            "💾 Saving after 320000 image_ids...\n",
            "💾 Saving after 330000 image_ids...\n",
            "💾 Saving after 340000 image_ids...\n",
            "💾 Saving after 350000 image_ids...\n",
            "💾 Saving after 360000 image_ids...\n",
            "💾 Saving after 370000 image_ids...\n",
            "💾 Saving after 380000 image_ids...\n",
            "💾 Saving after 390000 image_ids...\n",
            "\n",
            "✅ Done! Results saved:\n",
            " - /content/drive/MyDrive/final_qa_selected.csv\n",
            " - /content/drive/MyDrive/ambiguous_color_only.csv\n"
          ]
        }
      ],
      "source": [
        "import pandas as pd\n",
        "from google.colab import drive\n",
        "from tqdm.notebook import tqdm  \n",
        "\n",
        "drive.mount('/content/drive')\n",
        "\n",
        "merged_qa_path = '/content/drive/MyDrive/merged_cleaned_questions.csv'\n",
        "output_path = '/content/drive/MyDrive/final_qa_selected.csv'\n",
        "ambiguous_path = '/content/drive/MyDrive/ambiguous_color_only.csv'\n",
        "\n",
        "color_set = {\n",
        "    'red', 'green', 'blue', 'yellow', 'black', 'white', 'orange', 'purple',\n",
        "    'brown', 'gray', 'pink', 'cyan', 'magenta', 'silver', 'gold'\n",
        "}\n",
        "\n",
        "df = pd.read_csv(merged_qa_path)\n",
        "\n",
        "resolved_rows = []\n",
        "ambiguous_rows = []\n",
        "\n",
        "grouped = df.groupby('image_id')\n",
        "batch_size = 10000\n",
        "processed = 0\n",
        "\n",
        "print(\"🔄 Processing QA entries with progress bar...\")\n",
        "for image_id, group in tqdm(grouped, total=len(grouped)):\n",
        "    group = group.copy()\n",
        "    group['answer_lower'] = group['answer'].str.strip().str.lower()\n",
        "\n",
        "    non_color_qas = group[~group['answer_lower'].isin(color_set)]\n",
        "    color_qas = group[group['answer_lower'].isin(color_set)]\n",
        "\n",
        "    if len(group) == 1:\n",
        "        resolved_rows.append(group.drop(columns='answer_lower'))\n",
        "    elif len(non_color_qas) > 0:\n",
        "        resolved_rows.append(non_color_qas.drop(columns='answer_lower'))\n",
        "    else:\n",
        "        ambiguous_rows.append(color_qas.drop(columns='answer_lower'))\n",
        "\n",
        "    processed += 1\n",
        "\n",
        "    if processed % batch_size == 0:\n",
        "        print(f\"💾 Saving after {processed} image_ids...\")\n",
        "        if resolved_rows:\n",
        "            pd.concat(resolved_rows).to_csv(output_path, index=False)\n",
        "        if ambiguous_rows:\n",
        "            pd.concat(ambiguous_rows).to_csv(ambiguous_path, index=False)\n",
        "\n",
        "if resolved_rows:\n",
        "    pd.concat(resolved_rows).to_csv(output_path, index=False)\n",
        "if ambiguous_rows:\n",
        "    pd.concat(ambiguous_rows).to_csv(ambiguous_path, index=False)\n",
        "\n",
        "print(f\"\\n✅ Done! Results saved:\\n - {output_path}\\n - {ambiguous_path}\")\n"
      ]
    },
    {
      "cell_type": "code",
      "execution_count": null,
      "metadata": {
        "colab": {
          "base_uri": "https://localhost:8080/"
        },
        "id": "ItaylgzW7CVt",
        "outputId": "0888041f-c919-4806-e36f-2f23036b8d69"
      },
      "outputs": [
        {
          "name": "stdout",
          "output_type": "stream",
          "text": [
            "Drive already mounted at /content/drive; to attempt to forcibly remount, call drive.mount(\"/content/drive\", force_remount=True).\n",
            "ℹ️ No new answers selected this round.\n"
          ]
        }
      ],
      "source": [
        "import pandas as pd\n",
        "import os\n",
        "from google.colab import drive\n",
        "drive.mount('/content/drive')\n",
        "\n",
        "\n",
        "ambiguous_path = '/content/drive/MyDrive/ambiguous_color_only.csv'\n",
        "ambiguous_df = pd.read_csv(ambiguous_path)\n",
        "\n",
        "reviewed_log_path = '/content/drive/MyDrive/reviewed_image_ids.txt'\n",
        "\n",
        "if os.path.exists(reviewed_log_path):\n",
        "    with open(reviewed_log_path, 'r') as f:\n",
        "        reviewed_ids = set(f.read().splitlines())\n",
        "else:\n",
        "    reviewed_ids = set()\n",
        "\n",
        "groups = list(ambiguous_df.groupby('image_id'))\n",
        "\n",
        "final_path = '/content/drive/MyDrive/final_qa_selected.csv'\n",
        "final_df = pd.read_csv(final_path)\n",
        "\n",
        "selected_rows = []\n",
        "\n",
        "count = 0\n",
        "batch_limit = 20\n",
        "\n",
        "for image_id, group in groups:\n",
        "    if str(image_id) in reviewed_ids:\n",
        "        continue\n",
        "\n",
        "    print(f\"\\n📷 Image ID: {image_id}\")\n",
        "    for i, row in enumerate(group.itertuples(index=False), 1):\n",
        "        print(f\"  Option {i}: Q: {row.question.strip()} → A: {row.answer.strip()}\")\n",
        "\n",
        "    choice = input(\"👉 Choose option number(s) (e.g. 1 2), or 's' to skip: \").strip()\n",
        "\n",
        "    if choice.lower() == 's':\n",
        "        pass  \n",
        "    else:\n",
        "        try:\n",
        "            indices = [int(c) for c in choice.split()]\n",
        "            for i in indices:\n",
        "                selected_rows.append(group.iloc[i - 1])\n",
        "        except:\n",
        "            print(\"⚠️ Invalid input, skipping this image_id.\")\n",
        "\n",
        "    \n",
        "    with open(reviewed_log_path, 'a') as f:\n",
        "        f.write(f\"{image_id}\\n\")\n",
        "\n",
        "    count += 1\n",
        "    if count >= batch_limit:\n",
        "        print(\"\\n⏹️ Batch limit reached (20). Saving progress...\")\n",
        "        break\n",
        "\n",
        "if selected_rows:\n",
        "    new_selected_df = pd.DataFrame(selected_rows)\n",
        "    updated_df = pd.concat([final_df, new_selected_df], ignore_index=True)\n",
        "    updated_df.drop_duplicates(subset=['image_id', 'question', 'answer'], inplace=True)\n",
        "    updated_df.to_csv(final_path, index=False)\n",
        "    print(f\"✅ Saved {len(selected_rows)} new answers to: {final_path}\")\n",
        "else:\n",
        "    print(\"ℹ️ No new answers selected this round.\")\n"
      ]
    },
    {
      "cell_type": "code",
      "execution_count": null,
      "metadata": {
        "colab": {
          "base_uri": "https://localhost:8080/"
        },
        "id": "9P1V6BK1g-Zd",
        "outputId": "3cab960b-99fd-4f1d-a0dd-466fb57edeac"
      },
      "outputs": [
        {
          "data": {
            "text/plain": [
              "(945, 4)"
            ]
          },
          "execution_count": 20,
          "metadata": {},
          "output_type": "execute_result"
        }
      ],
      "source": [
        "ambiguous_df.shape"
      ]
    },
    {
      "cell_type": "code",
      "execution_count": null,
      "metadata": {
        "colab": {
          "base_uri": "https://localhost:8080/"
        },
        "id": "1a_V9PpghzrL",
        "outputId": "6f053509-3315-4977-e5fc-fd2b0480b9a6"
      },
      "outputs": [
        {
          "data": {
            "text/plain": [
              "(399169, 4)"
            ]
          },
          "execution_count": 37,
          "metadata": {},
          "output_type": "execute_result"
        }
      ],
      "source": [
        "final_df.shape"
      ]
    },
    {
      "cell_type": "code",
      "execution_count": null,
      "metadata": {
        "colab": {
          "base_uri": "https://localhost:8080/"
        },
        "id": "W2SMN9x2Dj7m",
        "outputId": "f9abadc4-a41f-4b71-a924-964db62a4890"
      },
      "outputs": [
        {
          "data": {
            "text/plain": [
              "Index(['batch_index', 'image_id', 'question', 'answer'], dtype='object')"
            ]
          },
          "execution_count": 38,
          "metadata": {},
          "output_type": "execute_result"
        }
      ],
      "source": [
        "final_df.columns"
      ]
    },
    {
      "cell_type": "code",
      "execution_count": null,
      "metadata": {
        "colab": {
          "base_uri": "https://localhost:8080/"
        },
        "id": "8-D_OA7WkntD",
        "outputId": "ec089700-5a7a-43f5-8f15-8956b609387f"
      },
      "outputs": [
        {
          "data": {
            "text/plain": [
              "472"
            ]
          },
          "execution_count": 40,
          "metadata": {},
          "output_type": "execute_result"
        }
      ],
      "source": [
        "len(reviewed_ids)"
      ]
    },
    {
      "cell_type": "code",
      "execution_count": null,
      "metadata": {
        "colab": {
          "base_uri": "https://localhost:8080/"
        },
        "id": "4zRJGRwr7bA8",
        "outputId": "3540b420-4ca9-4a6b-d61b-5c8ca76a0e35"
      },
      "outputs": [
        {
          "name": "stdout",
          "output_type": "stream",
          "text": [
            "✅ Merged QA with image metadata saved to: /content/drive/MyDrive/complete.csv\n"
          ]
        }
      ],
      "source": [
        "import pandas as pd\n",
        "\n",
        "final_qa_path = '/content/drive/MyDrive/final_qa_selected.csv'  \n",
        "images_path = '/content/drive/MyDrive/images.csv'    \n",
        "\n",
        "final_df = pd.read_csv(final_qa_path)\n",
        "images_df = pd.read_csv(images_path)\n",
        "\n",
        "merged_df = pd.merge(final_df, images_df[['image_id', 'height', 'width', 'path']], on='image_id', how='left')\n",
        "\n",
        "merged_df = merged_df[['image_id', 'height', 'width', 'path', 'question', 'answer']]\n",
        "\n",
        "output_path = '/content/drive/MyDrive/complete.csv'\n",
        "merged_df.to_csv(output_path, index=False)\n",
        "\n",
        "print(f\"✅ Merged QA with image metadata saved to: {output_path}\")\n"
      ]
    },
    {
      "cell_type": "code",
      "execution_count": null,
      "metadata": {
        "id": "1NEJnksQPPo8"
      },
      "outputs": [],
      "source": []
    }
  ],
  "metadata": {
    "accelerator": "GPU",
    "colab": {
      "gpuType": "T4",
      "provenance": []
    },
    "kernelspec": {
      "display_name": "Python 3",
      "name": "python3"
    },
    "language_info": {
      "name": "python"
    },
    "widgets": {
      "application/vnd.jupyter.widget-state+json": {
        "18ad26df5b8c410087914774ba498eae": {
          "model_module": "@jupyter-widgets/controls",
          "model_module_version": "1.5.0",
          "model_name": "HBoxModel",
          "state": {
            "_dom_classes": [],
            "_model_module": "@jupyter-widgets/controls",
            "_model_module_version": "1.5.0",
            "_model_name": "HBoxModel",
            "_view_count": null,
            "_view_module": "@jupyter-widgets/controls",
            "_view_module_version": "1.5.0",
            "_view_name": "HBoxView",
            "box_style": "",
            "children": [
              "IPY_MODEL_31be164514f347eea242995f7cc6b013",
              "IPY_MODEL_211b34108a4c464e852cd0b630f1492b",
              "IPY_MODEL_9ec6047e995a47869a3011ed900f0f7f"
            ],
            "layout": "IPY_MODEL_e6c060a84bb646c9b7015b478cdadf25"
          }
        },
        "211b34108a4c464e852cd0b630f1492b": {
          "model_module": "@jupyter-widgets/controls",
          "model_module_version": "1.5.0",
          "model_name": "FloatProgressModel",
          "state": {
            "_dom_classes": [],
            "_model_module": "@jupyter-widgets/controls",
            "_model_module_version": "1.5.0",
            "_model_name": "FloatProgressModel",
            "_view_count": null,
            "_view_module": "@jupyter-widgets/controls",
            "_view_module_version": "1.5.0",
            "_view_name": "ProgressView",
            "bar_style": "success",
            "description": "",
            "description_tooltip": null,
            "layout": "IPY_MODEL_c7382029ebd74d648bc91a7e43b5abc1",
            "max": 393456,
            "min": 0,
            "orientation": "horizontal",
            "style": "IPY_MODEL_adc7efcdf08c421f9428abdcf2efecb5",
            "value": 393456
          }
        },
        "2b7d3391586745d698f06fbfbd645cff": {
          "model_module": "@jupyter-widgets/base",
          "model_module_version": "1.2.0",
          "model_name": "LayoutModel",
          "state": {
            "_model_module": "@jupyter-widgets/base",
            "_model_module_version": "1.2.0",
            "_model_name": "LayoutModel",
            "_view_count": null,
            "_view_module": "@jupyter-widgets/base",
            "_view_module_version": "1.2.0",
            "_view_name": "LayoutView",
            "align_content": null,
            "align_items": null,
            "align_self": null,
            "border": null,
            "bottom": null,
            "display": null,
            "flex": null,
            "flex_flow": null,
            "grid_area": null,
            "grid_auto_columns": null,
            "grid_auto_flow": null,
            "grid_auto_rows": null,
            "grid_column": null,
            "grid_gap": null,
            "grid_row": null,
            "grid_template_areas": null,
            "grid_template_columns": null,
            "grid_template_rows": null,
            "height": null,
            "justify_content": null,
            "justify_items": null,
            "left": null,
            "margin": null,
            "max_height": null,
            "max_width": null,
            "min_height": null,
            "min_width": null,
            "object_fit": null,
            "object_position": null,
            "order": null,
            "overflow": null,
            "overflow_x": null,
            "overflow_y": null,
            "padding": null,
            "right": null,
            "top": null,
            "visibility": null,
            "width": null
          }
        },
        "31be164514f347eea242995f7cc6b013": {
          "model_module": "@jupyter-widgets/controls",
          "model_module_version": "1.5.0",
          "model_name": "HTMLModel",
          "state": {
            "_dom_classes": [],
            "_model_module": "@jupyter-widgets/controls",
            "_model_module_version": "1.5.0",
            "_model_name": "HTMLModel",
            "_view_count": null,
            "_view_module": "@jupyter-widgets/controls",
            "_view_module_version": "1.5.0",
            "_view_name": "HTMLView",
            "description": "",
            "description_tooltip": null,
            "layout": "IPY_MODEL_2b7d3391586745d698f06fbfbd645cff",
            "placeholder": "​",
            "style": "IPY_MODEL_b2ab54f5e0b74eb7ad9722ee751859fc",
            "value": "100%"
          }
        },
        "7283b7726b3846d9b8678862953149c3": {
          "model_module": "@jupyter-widgets/base",
          "model_module_version": "1.2.0",
          "model_name": "LayoutModel",
          "state": {
            "_model_module": "@jupyter-widgets/base",
            "_model_module_version": "1.2.0",
            "_model_name": "LayoutModel",
            "_view_count": null,
            "_view_module": "@jupyter-widgets/base",
            "_view_module_version": "1.2.0",
            "_view_name": "LayoutView",
            "align_content": null,
            "align_items": null,
            "align_self": null,
            "border": null,
            "bottom": null,
            "display": null,
            "flex": null,
            "flex_flow": null,
            "grid_area": null,
            "grid_auto_columns": null,
            "grid_auto_flow": null,
            "grid_auto_rows": null,
            "grid_column": null,
            "grid_gap": null,
            "grid_row": null,
            "grid_template_areas": null,
            "grid_template_columns": null,
            "grid_template_rows": null,
            "height": null,
            "justify_content": null,
            "justify_items": null,
            "left": null,
            "margin": null,
            "max_height": null,
            "max_width": null,
            "min_height": null,
            "min_width": null,
            "object_fit": null,
            "object_position": null,
            "order": null,
            "overflow": null,
            "overflow_x": null,
            "overflow_y": null,
            "padding": null,
            "right": null,
            "top": null,
            "visibility": null,
            "width": null
          }
        },
        "9ec6047e995a47869a3011ed900f0f7f": {
          "model_module": "@jupyter-widgets/controls",
          "model_module_version": "1.5.0",
          "model_name": "HTMLModel",
          "state": {
            "_dom_classes": [],
            "_model_module": "@jupyter-widgets/controls",
            "_model_module_version": "1.5.0",
            "_model_name": "HTMLModel",
            "_view_count": null,
            "_view_module": "@jupyter-widgets/controls",
            "_view_module_version": "1.5.0",
            "_view_name": "HTMLView",
            "description": "",
            "description_tooltip": null,
            "layout": "IPY_MODEL_7283b7726b3846d9b8678862953149c3",
            "placeholder": "​",
            "style": "IPY_MODEL_ab35bd2321d44516a9758652a1fe40f9",
            "value": " 393456/393456 [23:58&lt;00:00, 446.43it/s]"
          }
        },
        "ab35bd2321d44516a9758652a1fe40f9": {
          "model_module": "@jupyter-widgets/controls",
          "model_module_version": "1.5.0",
          "model_name": "DescriptionStyleModel",
          "state": {
            "_model_module": "@jupyter-widgets/controls",
            "_model_module_version": "1.5.0",
            "_model_name": "DescriptionStyleModel",
            "_view_count": null,
            "_view_module": "@jupyter-widgets/base",
            "_view_module_version": "1.2.0",
            "_view_name": "StyleView",
            "description_width": ""
          }
        },
        "adc7efcdf08c421f9428abdcf2efecb5": {
          "model_module": "@jupyter-widgets/controls",
          "model_module_version": "1.5.0",
          "model_name": "ProgressStyleModel",
          "state": {
            "_model_module": "@jupyter-widgets/controls",
            "_model_module_version": "1.5.0",
            "_model_name": "ProgressStyleModel",
            "_view_count": null,
            "_view_module": "@jupyter-widgets/base",
            "_view_module_version": "1.2.0",
            "_view_name": "StyleView",
            "bar_color": null,
            "description_width": ""
          }
        },
        "b2ab54f5e0b74eb7ad9722ee751859fc": {
          "model_module": "@jupyter-widgets/controls",
          "model_module_version": "1.5.0",
          "model_name": "DescriptionStyleModel",
          "state": {
            "_model_module": "@jupyter-widgets/controls",
            "_model_module_version": "1.5.0",
            "_model_name": "DescriptionStyleModel",
            "_view_count": null,
            "_view_module": "@jupyter-widgets/base",
            "_view_module_version": "1.2.0",
            "_view_name": "StyleView",
            "description_width": ""
          }
        },
        "c7382029ebd74d648bc91a7e43b5abc1": {
          "model_module": "@jupyter-widgets/base",
          "model_module_version": "1.2.0",
          "model_name": "LayoutModel",
          "state": {
            "_model_module": "@jupyter-widgets/base",
            "_model_module_version": "1.2.0",
            "_model_name": "LayoutModel",
            "_view_count": null,
            "_view_module": "@jupyter-widgets/base",
            "_view_module_version": "1.2.0",
            "_view_name": "LayoutView",
            "align_content": null,
            "align_items": null,
            "align_self": null,
            "border": null,
            "bottom": null,
            "display": null,
            "flex": null,
            "flex_flow": null,
            "grid_area": null,
            "grid_auto_columns": null,
            "grid_auto_flow": null,
            "grid_auto_rows": null,
            "grid_column": null,
            "grid_gap": null,
            "grid_row": null,
            "grid_template_areas": null,
            "grid_template_columns": null,
            "grid_template_rows": null,
            "height": null,
            "justify_content": null,
            "justify_items": null,
            "left": null,
            "margin": null,
            "max_height": null,
            "max_width": null,
            "min_height": null,
            "min_width": null,
            "object_fit": null,
            "object_position": null,
            "order": null,
            "overflow": null,
            "overflow_x": null,
            "overflow_y": null,
            "padding": null,
            "right": null,
            "top": null,
            "visibility": null,
            "width": null
          }
        },
        "e6c060a84bb646c9b7015b478cdadf25": {
          "model_module": "@jupyter-widgets/base",
          "model_module_version": "1.2.0",
          "model_name": "LayoutModel",
          "state": {
            "_model_module": "@jupyter-widgets/base",
            "_model_module_version": "1.2.0",
            "_model_name": "LayoutModel",
            "_view_count": null,
            "_view_module": "@jupyter-widgets/base",
            "_view_module_version": "1.2.0",
            "_view_name": "LayoutView",
            "align_content": null,
            "align_items": null,
            "align_self": null,
            "border": null,
            "bottom": null,
            "display": null,
            "flex": null,
            "flex_flow": null,
            "grid_area": null,
            "grid_auto_columns": null,
            "grid_auto_flow": null,
            "grid_auto_rows": null,
            "grid_column": null,
            "grid_gap": null,
            "grid_row": null,
            "grid_template_areas": null,
            "grid_template_columns": null,
            "grid_template_rows": null,
            "height": null,
            "justify_content": null,
            "justify_items": null,
            "left": null,
            "margin": null,
            "max_height": null,
            "max_width": null,
            "min_height": null,
            "min_width": null,
            "object_fit": null,
            "object_position": null,
            "order": null,
            "overflow": null,
            "overflow_x": null,
            "overflow_y": null,
            "padding": null,
            "right": null,
            "top": null,
            "visibility": null,
            "width": null
          }
        }
      }
    }
  },
  "nbformat": 4,
  "nbformat_minor": 0
}
